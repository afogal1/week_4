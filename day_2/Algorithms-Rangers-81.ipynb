{
 "cells": [
  {
   "cell_type": "markdown",
   "metadata": {},
   "source": [
    "# Cl"
   ]
  },
  {
   "cell_type": "markdown",
   "metadata": {},
   "source": [
    "## Tasks Today:\n",
    " \n",
    "1) <b>In-Place Algorithms</b> <br>\n",
    " &nbsp;&nbsp;&nbsp;&nbsp; a) Syntax <br>\n",
    " &nbsp;&nbsp;&nbsp;&nbsp; a) Out of Place Algorithm <br>\n",
    " &nbsp;&nbsp;&nbsp;&nbsp; b) In-Class Exercise #1 <br>\n",
    "2) <b>Two Pointers</b> <br>\n",
    "3) <b>Linked Lists</b> <br>\n",
    "4) <b>Merge Sort</b> <br>\n",
    " &nbsp;&nbsp;&nbsp;&nbsp; a) Video on Algorithms <br>\n",
    " &nbsp;&nbsp;&nbsp;&nbsp; b) How it Works <br>\n",
    "5) <b>Exercises</b> <br>\n",
    " &nbsp;&nbsp;&nbsp;&nbsp; a) Exercise #1 - Reverse a List in Place Using an In-Place Algorithm <br>\n",
    " &nbsp;&nbsp;&nbsp;&nbsp; b) Exercise #2 - Find Distinct Words <br>\n",
    " &nbsp;&nbsp;&nbsp;&nbsp; c) Exercise #3 - Write a program to implement a Linear Search Algorithm. <br>"
   ]
  },
  {
   "cell_type": "markdown",
   "metadata": {},
   "source": [
    "## In-Place Algorithms"
   ]
  },
  {
   "cell_type": "markdown",
   "metadata": {},
   "source": [
    "#### Syntax"
   ]
  },
  {
   "cell_type": "code",
   "execution_count": 2,
   "metadata": {},
   "outputs": [
    {
     "name": "stdout",
     "output_type": "stream",
     "text": [
      "my_list before sawp: [10, 20, 30]\n",
      "my_list after swap: [30, 10, 20]\n"
     ]
    }
   ],
   "source": [
    "# swap algorithm \n",
    "# var[i],var[i+1] = var[i+1], var[i]\n",
    "\n",
    "def swap(alist,x,y,z):\n",
    "    alist[x], alist[y], alist[z] = alist[z], alist[x], alist[y]\n",
    "    return alist \n",
    "my_list = [10,20,30]\n",
    "print(f\"my_list before sawp: {my_list}\")\n",
    "\n",
    "swap(my_list,0,1,2)\n",
    "\n",
    "print(f\"my_list after swap: {my_list}\")"
   ]
  },
  {
   "cell_type": "markdown",
   "metadata": {},
   "source": [
    "#### Out of Place Algorithm"
   ]
  },
  {
   "cell_type": "code",
   "execution_count": 4,
   "metadata": {},
   "outputs": [
    {
     "name": "stdout",
     "output_type": "stream",
     "text": [
      "Before ['a', 'b', 'c', 'd']\n",
      "after ['d', 'c', 'b', 'a']\n"
     ]
    }
   ],
   "source": [
    "# in place version\n",
    "my_list.reverse()\n",
    "\n",
    "# Reversing a list \n",
    "mylist_reversed = my_list[::-1]\n",
    "\n",
    "array = ['a','b','c','d']\n",
    "new_array = ['a'] * len(array)\n",
    "\n",
    "print('Before', array)\n",
    "\n",
    "length = len(array) - 1\n",
    "\n",
    "for i in range(length):\n",
    "    new_array[i] = array[length - i]\n",
    "\n",
    "array = new_array\n",
    "\n",
    "print('after', array)"
   ]
  },
  {
   "cell_type": "markdown",
   "metadata": {},
   "source": [
    "#### In-Class Exercise #1 <br>\n",
    "<p>Write a function that takes in four arguments (list, index1, index2, index3), and swaps those three positions in the list passed in.</p>"
   ]
  },
  {
   "cell_type": "code",
   "execution_count": 12,
   "metadata": {},
   "outputs": [
    {
     "name": "stdout",
     "output_type": "stream",
     "text": [
      "[3, 10, 4, 8, 4, 2, 6]\n"
     ]
    }
   ],
   "source": [
    "l_1 = [10, 4, 3, 8, 4, 2, 6]\n",
    "\n",
    "def swap(alist,a,b,c):\n",
    "    alist[a],alist[b],alist[c] = alist[c],alist[a],alist[b]\n",
    "    return alist\n",
    "\n",
    "print(swap(l_1,0,1,2))"
   ]
  },
  {
   "cell_type": "markdown",
   "metadata": {},
   "source": [
    "## Two Pointers"
   ]
  },
  {
   "cell_type": "markdown",
   "metadata": {},
   "source": [
    "#### Syntax"
   ]
  },
  {
   "cell_type": "code",
   "execution_count": 13,
   "metadata": {},
   "outputs": [
    {
     "data": {
      "text/plain": [
       "[88, 35, 12, 7, 5, 2, 1]"
      ]
     },
     "execution_count": 13,
     "metadata": {},
     "output_type": "execute_result"
    }
   ],
   "source": [
    "# alist[left], alist[right] = alist[right], alist[left]\n",
    "# use these pointers to swap... this can be done in a loop\n",
    "\n",
    "def twoPointers(alist):\n",
    "    #creating pointers\n",
    "    left = 0 \n",
    "    right = len(alist) - 1\n",
    "    \n",
    "    while left <= right:\n",
    "        #swap\n",
    "        alist[left],alist[right] = alist[right], alist[left]\n",
    "        left += 1 #incrementing\n",
    "        right -= 1 #decrementing \n",
    "    return alist \n",
    "\n",
    "my_list2 = [1,2,5,7,12,35,88]\n",
    "twoPointers(my_list2)\n"
   ]
  },
  {
   "cell_type": "markdown",
   "metadata": {},
   "source": [
    "#### Video of Algorithms <br>\n",
    "<p>Watch the video about algorithms.</p>\n",
    "\n",
    "https://www.youtube.com/watch?v=Q9HjeFD62Uk\n",
    "\n",
    "https://www.youtube.com/watch?v=kPRA0W1kECg\n",
    "\n",
    "https://www.youtube.com/watch?v=ZZuD6iUe3Pc"
   ]
  },
  {
   "cell_type": "markdown",
   "metadata": {},
   "source": [
    "# Sorting Algorithms"
   ]
  },
  {
   "cell_type": "markdown",
   "metadata": {},
   "source": [
    "#### Bubble Sort\n",
    "\n",
    "Worst Case: O(n^2) Time - O(1) Space"
   ]
  },
  {
   "cell_type": "code",
   "execution_count": 14,
   "metadata": {},
   "outputs": [
    {
     "data": {
      "text/plain": [
       "[1, 22, 34, 44, 55, 66, 88, 100]"
      ]
     },
     "execution_count": 14,
     "metadata": {},
     "output_type": "execute_result"
    }
   ],
   "source": [
    "def swap(i,j, array):\n",
    "    array[i],array[j] = array[j], array[i]\n",
    "    \n",
    "def bubbleSort(array):\n",
    "    \n",
    "    isSorted = False #flag\n",
    "    while not isSorted:\n",
    "        isSorted = True\n",
    "        for num in range(len(array)-1): # -1 to get last index in range\n",
    "            if array[num] > array[num + 1]:\n",
    "                swap(num, num + 1, array)\n",
    "                isSorted = False\n",
    "    return array\n",
    "\n",
    "bubbleSort([22,55,88,44,1,100,34,66])"
   ]
  },
  {
   "cell_type": "markdown",
   "metadata": {},
   "source": [
    "##### Insertion Sort\n",
    "\n",
    "Worst Case: O(n^2) time - O(1)space"
   ]
  },
  {
   "cell_type": "code",
   "execution_count": 20,
   "metadata": {},
   "outputs": [
    {
     "name": "stdout",
     "output_type": "stream",
     "text": [
      "[1, 22, 34, 44, 55, 66, 88, 100]\n"
     ]
    }
   ],
   "source": [
    "def swap(i,j,array):\n",
    "    array[i], array[j] = array[j], array[i]\n",
    "    \n",
    "def insertionSort(array):\n",
    "    for i in range(1,len(array)): # O(n)\n",
    "        while i > 0  and array[i] < array[i-1]:\n",
    "            swap(i, i-1, array)\n",
    "            i -= 1 \n",
    "    return array\n",
    "print(insertionSort([22,55,88,44,1,100,34,66]))"
   ]
  },
  {
   "cell_type": "markdown",
   "metadata": {},
   "source": [
    "## Merge Sort"
   ]
  },
  {
   "cell_type": "markdown",
   "metadata": {},
   "source": [
    "#### How it Works"
   ]
  },
  {
   "cell_type": "code",
   "execution_count": 25,
   "metadata": {},
   "outputs": [
    {
     "name": "stdout",
     "output_type": "stream",
     "text": [
      "[10, 0, 2, 1, 0]\n",
      "splitting... [10, 0, 2, 1, 0]\n",
      "splitting... [10, 0]\n",
      "splitting... [10]\n",
      "merging:  [10]\n",
      "splitting... [0]\n",
      "merging:  [0]\n",
      "merging:  [0, 10]\n",
      "splitting... [2, 1, 0]\n",
      "splitting... [2]\n",
      "merging:  [2]\n",
      "splitting... [1, 0]\n",
      "splitting... [1]\n",
      "merging:  [1]\n",
      "splitting... [0]\n",
      "merging:  [0]\n",
      "merging:  [0, 1]\n",
      "merging:  [0, 1, 2]\n",
      "merging:  [0, 0, 1, 2, 10]\n"
     ]
    },
    {
     "data": {
      "text/plain": [
       "[0, 0, 1, 2, 10]"
      ]
     },
     "execution_count": 25,
     "metadata": {},
     "output_type": "execute_result"
    }
   ],
   "source": [
    "# step 1: split everything into it's own group \n",
    "# step 2: from left to right, marge the groups together (two at a time)\n",
    "# step 3: while merging, place each item in the correct position (in larger list)\n",
    "# step 4: continue steps 3-4 untill we have 1 group left \n",
    "\n",
    "from random import randint\n",
    "# generate random list of 5 numbers from 0 to 20 \n",
    "nums = [randint(0,20)for i in range(5)]\n",
    "print(nums)\n",
    "\n",
    "# merge sort\n",
    "def mergeSort(alist):\n",
    "    print(\"splitting...\", alist)\n",
    "    \n",
    "    # step 1: Divide if not a single (1) element\n",
    "    if len(alist) > 1:\n",
    "        mid = len(alist)//2\n",
    "        lefthalf = alist[:mid]\n",
    "        righthalf = alist[mid:]\n",
    "        \n",
    "        # recursively call mergeSort on the halves\n",
    "        # then merge once ther're all split up\n",
    "        \n",
    "        mergeSort(lefthalf)\n",
    "        mergeSort(righthalf)\n",
    "        \n",
    "        # index pointers for lists\n",
    "        left = 0 # left half pointer\n",
    "        right = 0 # right half pointer\n",
    "        main = 0 # main array pointer \n",
    "        \n",
    "        # Step 2: compare the half \n",
    "        while left < len(lefthalf) and right < len(righthalf):\n",
    "            if lefthalf[left] < righthalf[right]:\n",
    "                alist[main] = lefthalf[left]\n",
    "                left = left + 1 \n",
    "            else:\n",
    "                alist[main] = righthalf[right]\n",
    "                right = right + 1\n",
    "            main = main + 1 \n",
    "        \n",
    "        # step 3: place items in correct positions \n",
    "        while left < len(lefthalf):\n",
    "            alist[main] = lefthalf[left]\n",
    "            left += 1\n",
    "            main += 1\n",
    "        while right < len(righthalf):\n",
    "            alist[main] = righthalf[right]\n",
    "            right += 1\n",
    "            main += 1\n",
    "    print(\"merging: \", alist)\n",
    "    return alist\n",
    "\n",
    "mergeSort(nums)"
   ]
  },
  {
   "cell_type": "markdown",
   "metadata": {},
   "source": [
    "# Binary Search\n",
    "\n",
    "The Binary Search algorithm works by finding the number in the middle of a given array and comparing it to the target. Given that the array is sorted\n",
    "\n",
    "* The worst case run time for this algorithm is `O(log(n))`"
   ]
  },
  {
   "cell_type": "code",
   "execution_count": 30,
   "metadata": {},
   "outputs": [
    {
     "data": {
      "text/plain": [
       "' The index of 10 is 4.'"
      ]
     },
     "execution_count": 30,
     "metadata": {},
     "output_type": "execute_result"
    }
   ],
   "source": [
    "# binary search only works on sorted lists\n",
    "\n",
    "def binarySearchHelperFunction(array, target, left, right):\n",
    "    while left <= right:\n",
    "        middle = (left + right) // 2\n",
    "        potential_match = array[middle]\n",
    "        if target == potential_match:\n",
    "            return f\" The index of {target} is {middle}.\"\n",
    "        elif target < potential_match:\n",
    "            right = middle - 1 \n",
    "        else:\n",
    "            left = middle + 1\n",
    "    return -1 \n",
    "\n",
    "def binarySearch(array,target):\n",
    "    return binarySearchHelperFunction(array,target,0,len(array)-1)\n",
    "\n",
    "binarySearch(nums,10)    "
   ]
  },
  {
   "cell_type": "markdown",
   "metadata": {},
   "source": [
    "# Exercises"
   ]
  },
  {
   "cell_type": "markdown",
   "metadata": {},
   "source": [
    "### Exercise #1 <br>\n",
    "<p>Reverse the list below in-place using an in-place algorithm.<br>For extra credit: Reverse the strings at the same time.</p>"
   ]
  },
  {
   "cell_type": "code",
   "execution_count": 2,
   "metadata": {},
   "outputs": [
    {
     "name": "stdout",
     "output_type": "stream",
     "text": [
      "['.', 'ecnetnes', 'a', 'si', 'siht']\n"
     ]
    }
   ],
   "source": [
    "words = ['this' , 'is', 'a', 'sentence', '.']\n",
    "words = ['this' , 'is', 'a', 'sentence', '.']\n",
    "\n",
    "def reverse_list(alist):          #reversed list and letters in word for the bonus\n",
    "    alist.reverse()\n",
    "    new_list = []\n",
    "    for word in alist:\n",
    "        new_list.append(word[::-1])\n",
    "    return new_list\n",
    "    \n",
    "print(reverse_list(words))"
   ]
  },
  {
   "cell_type": "markdown",
   "metadata": {},
   "source": [
    "### Exercise #2 <br>\n",
    "<p>Create a function that counts how many distinct words are in the string below, then outputs a dictionary with the words as the key and the value as the amount of times that word appears in the string.<br>Should output:<br>{'a': 5,<br>\n",
    " 'abstract': 1,<br>\n",
    " 'an': 3,<br>\n",
    " 'array': 2, ... etc...</p>"
   ]
  },
  {
   "cell_type": "code",
   "execution_count": 4,
   "metadata": {},
   "outputs": [
    {
     "name": "stdout",
     "output_type": "stream",
     "text": [
      "{'in': 1, 'computing': 1, 'a': 5, 'hash': 4, 'table': 2, 'map': 2, 'is': 1, 'data': 2, 'structure': 2, 'which': 2, 'implements': 1, 'an': 3, 'associative': 1, 'array': 2, 'abstract': 1, 'type': 1, 'that': 1, 'can': 2, 'keys': 1, 'to': 2, 'values': 1, 'uses': 1, 'function': 1, 'compute': 1, 'index': 1, 'into': 1, 'of': 1, 'buckets': 1, 'or': 1, 'slots': 1, 'from': 1, 'the': 1, 'desired': 1, 'value': 1, 'be': 1, 'found': 1}\n"
     ]
    }
   ],
   "source": [
    "a_text = 'In computing, a hash table hash map is a data structure which implements an associative array abstract data type, a structure that can map keys to values. A hash table uses a hash function to compute an index into an array of buckets or slots from which the desired value can be found'\n",
    "\n",
    "str_list = list(a_text.split())\n",
    "# print(len(str_list))\n",
    "\n",
    "def count_words(string):\n",
    "    str_list = list(string.lower().split())\n",
    "    dict = {}\n",
    "    \n",
    "    for i in range(0, len(str_list)):\n",
    "        str_list[i] = str_list[i].strip(\",.\")\n",
    "        if str_list[i] in dict:\n",
    "            dict[str_list[i]] += 1\n",
    "        else:\n",
    "            dict[str_list[i]] = 1\n",
    "    print(dict)\n",
    "\n",
    "count_words(a_text)"
   ]
  },
  {
   "cell_type": "markdown",
   "metadata": {},
   "source": [
    "## Exercise #3\n",
    "\n",
    "Write a program to implement a Linear Search Algorithm. Also in a comment, write the Time Complexity of the following algorithm.\n",
    "\n",
    "#### Hint: Linear Searching will require searching a list for a given number. "
   ]
  },
  {
   "cell_type": "code",
   "execution_count": 5,
   "metadata": {},
   "outputs": [
    {
     "name": "stdout",
     "output_type": "stream",
     "text": [
      "[2, 9, 10]\n",
      "Number 3 is not in this set.\n"
     ]
    }
   ],
   "source": [
    "# Finding a 5 in a random list of numbers\n",
    "\n",
    "from random import randint\n",
    "nums = [randint(0,10) for i in range(3)]\n",
    "\n",
    "def swapList(a,b,alist):\n",
    "    alist[a],alist[b] = alist[b],alist[a]\n",
    "    \n",
    "def sortNums(alist):\n",
    "    for i in range(1,len(alist)):\n",
    "        while i > 0 and alist[i] < alist[i-1]:\n",
    "            swapList(i, i-1, alist)\n",
    "            i -= 1\n",
    "    \n",
    "\n",
    "def findNum(alist):\n",
    "    sortNums(alist)\n",
    "    print(alist)\n",
    "    for i in range(0,len(alist)):\n",
    "        if alist[i] == 3:\n",
    "            return i\n",
    "    return -1\n",
    "\n",
    "\n",
    "answer = findNum(nums)\n",
    "if answer != -1:\n",
    "    print(f\"3 is located at index: {answer}\")\n",
    "else:\n",
    "    print(\"Number 3 is not in this set.\")"
   ]
  }
 ],
 "metadata": {
  "kernelspec": {
   "display_name": "Python 3 (ipykernel)",
   "language": "python",
   "name": "python3"
  },
  "language_info": {
   "codemirror_mode": {
    "name": "ipython",
    "version": 3
   },
   "file_extension": ".py",
   "mimetype": "text/x-python",
   "name": "python",
   "nbconvert_exporter": "python",
   "pygments_lexer": "ipython3",
   "version": "3.9.7"
  }
 },
 "nbformat": 4,
 "nbformat_minor": 2
}
